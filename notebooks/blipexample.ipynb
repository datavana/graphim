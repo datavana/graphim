{
 "cells": [
  {
   "cell_type": "markdown",
   "id": "5f246a66-af33-402a-b710-b1eb4c9f5978",
   "metadata": {},
   "source": [
    "# Caption generation example"
   ]
  },
  {
   "cell_type": "code",
   "execution_count": 19,
   "id": "961e5fc7-8ceb-470e-8e98-05424ff78c63",
   "metadata": {},
   "outputs": [],
   "source": [
    "from transformers import BlipProcessor, BlipForConditionalGeneration\n",
    "from PIL import Image\n",
    "from IPython.display import display"
   ]
  },
  {
   "cell_type": "code",
   "execution_count": 20,
   "id": "10eaf1bf-d205-4d7d-83b7-b161c31d02bd",
   "metadata": {},
   "outputs": [
    {
     "name": "stderr",
     "output_type": "stream",
     "text": [
      "Fetching 1 files: 100%|██████████| 1/1 [00:00<00:00, 4848.91it/s]\n"
     ]
    }
   ],
   "source": [
    "# Load the processor and model\n",
    "processor = BlipProcessor.from_pretrained(\"Salesforce/blip-image-captioning-base\")\n",
    "model = BlipForConditionalGeneration.from_pretrained(\"Salesforce/blip-image-captioning-base\")"
   ]
  },
  {
   "cell_type": "code",
   "execution_count": null,
   "id": "c47a65ab-a509-4903-9eac-c10fce07f810",
   "metadata": {},
   "outputs": [],
   "source": [
    "# Load your image\n",
    "image_path = \"../data/memesgerman/images/msg10.png\"\n",
    "image = Image.open(image_path).convert('RGB')\n",
    "\n",
    "display(image.resize((200,200)))"
   ]
  },
  {
   "cell_type": "code",
   "execution_count": 22,
   "id": "035554ea-f2d4-4111-9bd0-528da534e26c",
   "metadata": {},
   "outputs": [
    {
     "name": "stdout",
     "output_type": "stream",
     "text": [
      "a robot sitting at a table with a bottle of beer\n"
     ]
    }
   ],
   "source": [
    "# Generate caption\n",
    "inputs = processor(images=image, return_tensors=\"pt\")\n",
    "out = model.generate(**inputs)\n",
    "caption = processor.decode(out[0], skip_special_tokens=True)\n",
    "\n",
    "print(caption)"
   ]
  }
 ],
 "metadata": {
  "kernelspec": {
   "display_name": "Python 3 (ipykernel)",
   "language": "python",
   "name": "python3"
  },
  "language_info": {
   "codemirror_mode": {
    "name": "ipython",
    "version": 3
   },
   "file_extension": ".py",
   "mimetype": "text/x-python",
   "name": "python",
   "nbconvert_exporter": "python",
   "pygments_lexer": "ipython3",
   "version": "3.11.6"
  }
 },
 "nbformat": 4,
 "nbformat_minor": 5
}
